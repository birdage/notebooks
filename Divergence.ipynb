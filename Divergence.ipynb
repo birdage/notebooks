{
 "metadata": {
  "name": "Divergence"
 },
 "nbformat": 3,
 "nbformat_minor": 0,
 "worksheets": [
  {
   "cells": [
    {
     "cell_type": "code",
     "collapsed": false,
     "input": [
      "import numpy as np\n",
      "\n",
      "X,Y = np.mgrid[0:10,0:10]\n",
      "Z = X**2 + 2*Y\n",
      "\n",
      "fig = plt.subplot(111)\n",
      "#fig.title('Nonsense')\n",
      "fig.contourf(X,Y,Z)\n",
      "\n",
      "print Z\n",
      "\n",
      "\n",
      "\n",
      "def divergence(grid, dx=1., dy=1.):\n",
      "    out = np.zeros((grid.shape[0]-2, grid.shape[1]-2))\n",
      "    u = grid\n",
      "    for i in xrange(out.shape[0]):\n",
      "        for j in xrange(out.shape[1]):\n",
      "            out[i,j] = (u[i+2,j] - u[i,j])/(2. * dx) + (u[i,j+2] - u[i,j])/(2. * dy)\n",
      "\n",
      "    return out\n",
      "\n",
      "\n",
      "dZ = divergence(Z)\n",
      "\n",
      "print dZ\n",
      "\n"
     ],
     "language": "python",
     "metadata": {},
     "outputs": [
      {
       "output_type": "stream",
       "stream": "stdout",
       "text": [
        "[[ 0  2  4  6  8 10 12 14 16 18]\n",
        " [ 1  3  5  7  9 11 13 15 17 19]\n",
        " [ 4  6  8 10 12 14 16 18 20 22]\n",
        " [ 9 11 13 15 17 19 21 23 25 27]\n",
        " [16 18 20 22 24 26 28 30 32 34]\n",
        " [25 27 29 31 33 35 37 39 41 43]\n",
        " [36 38 40 42 44 46 48 50 52 54]\n",
        " [49 51 53 55 57 59 61 63 65 67]\n",
        " [64 66 68 70 72 74 76 78 80 82]\n",
        " [81 83 85 87 89 91 93 95 97 99]]\n",
        "[[  4.   4.   4.   4.   4.   4.   4.   4.]\n",
        " [  6.   6.   6.   6.   6.   6.   6.   6.]\n",
        " [  8.   8.   8.   8.   8.   8.   8.   8.]\n",
        " [ 10.  10.  10.  10.  10.  10.  10.  10.]\n",
        " [ 12.  12.  12.  12.  12.  12.  12.  12.]\n",
        " [ 14.  14.  14.  14.  14.  14.  14.  14.]\n",
        " [ 16.  16.  16.  16.  16.  16.  16.  16.]\n",
        " [ 18.  18.  18.  18.  18.  18.  18.  18.]]\n"
       ]
      },
      {
       "output_type": "display_data",
       "png": "[encoded data removed]"
      }
     ],
     "prompt_number": 9
    },
    {
     "cell_type": "code",
     "collapsed": false,
     "input": [
      "2 * X + 2"
     ],
     "language": "python",
     "metadata": {},
     "outputs": [
      {
       "output_type": "pyout",
       "prompt_number": 10,
       "text": [
        "array([[ 2,  2,  2,  2,  2,  2,  2,  2,  2,  2],\n",
        "       [ 4,  4,  4,  4,  4,  4,  4,  4,  4,  4],\n",
        "       [ 6,  6,  6,  6,  6,  6,  6,  6,  6,  6],\n",
        "       [ 8,  8,  8,  8,  8,  8,  8,  8,  8,  8],\n",
        "       [10, 10, 10, 10, 10, 10, 10, 10, 10, 10],\n",
        "       [12, 12, 12, 12, 12, 12, 12, 12, 12, 12],\n",
        "       [14, 14, 14, 14, 14, 14, 14, 14, 14, 14],\n",
        "       [16, 16, 16, 16, 16, 16, 16, 16, 16, 16],\n",
        "       [18, 18, 18, 18, 18, 18, 18, 18, 18, 18],\n",
        "       [20, 20, 20, 20, 20, 20, 20, 20, 20, 20]])"
       ]
      }
     ],
     "prompt_number": 10
    },
    {
     "cell_type": "code",
     "collapsed": false,
     "input": [],
     "language": "python",
     "metadata": {},
     "outputs": []
    }
   ],
   "metadata": {}
  }
 ]
}