{
 "metadata": {
  "name": ""
 },
 "nbformat": 3,
 "nbformat_minor": 0,
 "worksheets": [
  {
   "cells": [
    {
     "cell_type": "code",
     "collapsed": false,
     "input": [
      "url = 'http://tds.maracoos.org/thredds/dodsC/SST-Composites-1Day/2013/11/20131101.0151.d1.composite.nc'\n",
      "\n",
      "\n",
      "from pydap.client import open_url\n",
      "\n",
      "ds = open_url(url)\n"
     ],
     "language": "python",
     "metadata": {},
     "outputs": [],
     "prompt_number": 2
    },
    {
     "cell_type": "code",
     "collapsed": false,
     "input": [
      "ds"
     ],
     "language": "python",
     "metadata": {},
     "outputs": [
      {
       "metadata": {},
       "output_type": "pyout",
       "prompt_number": 3,
       "text": [
        "{'lon': <pydap.model.BaseType object at 0x102ca83d0>, 'lat': <pydap.model.BaseType object at 0x104cab7d0>, 'time': <pydap.model.BaseType object at 0x104cab890>, 'mcsst': {'mcsst': <pydap.model.BaseType object at 0x104caba10>, 'time': <pydap.model.BaseType object at 0x104caba50>, 'lat': <pydap.model.BaseType object at 0x104cabb10>, 'lon': <pydap.model.BaseType object at 0x104cabbd0>}}"
       ]
      }
     ],
     "prompt_number": 3
    },
    {
     "cell_type": "code",
     "collapsed": false,
     "input": [
      "ds.attributes"
     ],
     "language": "python",
     "metadata": {},
     "outputs": [
      {
       "metadata": {},
       "output_type": "pyout",
       "prompt_number": 4,
       "text": [
        "{'DODS_EXTRA': {'Unlimited_Dimension': 'time'},\n",
        " 'NC_GLOBAL': {'Conventions': 'CF-1.6',\n",
        "  'Metadata_Conventions': 'Unidata Dataset Discovery v1.0',\n",
        "  'NCO': '4.0.8',\n",
        "  'cdm_data_type': 'Grid',\n",
        "  'composite_members': ' 20131101.0151',\n",
        "  'creator_email': 'moliver@udel.edu',\n",
        "  'creator_name': 'Matt Oliver',\n",
        "  'creator_url': 'http://orb.ceoe.udel.edu/',\n",
        "  'groundstation': 'RU-COOL L-band receiver at Rutgers University, New Jersey, USA',\n",
        "  'id': 'avhrr.sst',\n",
        "  'institution': 'University of Delaware',\n",
        "  'keywords': 'MARACOOS, AVHRR, SST, UDEL, Satellite SST, Rutgers, Sea Surface Temperature',\n",
        "  'naming_authority': 'MARACOOS',\n",
        "  'publisher_email': 'maracoosinfo@udel.edu',\n",
        "  'publisher_name': 'MARACOOS DMAC',\n",
        "  'publisher_url': 'http://maracoos.org',\n",
        "  'source': 'NOAA AVHRR',\n",
        "  'standard_name_vocabulary': 'http://www.cgd.ucar.edu/cms/eaton/cf-metadata/standard_name.html',\n",
        "  'summary': 'Sea surface temperature over the Mid-Atlantic and surrounding waters from NOAA AVHRR satellites. MCSST calculation and image navigation by TeraScan software; Regridded to Mercator lon/lat projection. Processed and De-clouded at University of Delaware. All data data are preserved, and a multi class cloud mask is provided to the user.',\n",
        "  'title': 'AVHRR Sea Surface Temperature for MARACOOS (Mid-Atlantic Regional Association Coastal Ocean Observing System)',\n",
        "  'url': 'http://www.ceoe.udel.edu, http://marine.rutgers.edu/cool/sat_data'}}"
       ]
      }
     ],
     "prompt_number": 4
    },
    {
     "cell_type": "code",
     "collapsed": false,
     "input": [
      "ds.iteritems()"
     ],
     "language": "python",
     "metadata": {},
     "outputs": []
    }
   ],
   "metadata": {}
  }
 ]
}