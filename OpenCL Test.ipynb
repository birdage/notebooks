{
 "metadata": {
  "name": ""
 },
 "nbformat": 3,
 "nbformat_minor": 0,
 "worksheets": [
  {
   "cells": [
    {
     "cell_type": "code",
     "collapsed": false,
     "input": [
      "import pyopencl as cl\n",
      "import numpy\n",
      "import numpy.linalg as la\n",
      "\n",
      "a = numpy.random.rand(50000).astype(numpy.float32)\n",
      "b = numpy.random.rand(50000).astype(numpy.float32)\n",
      "\n",
      "ctx = cl.create_some_context()\n",
      "queue = cl.CommandQueue(ctx)\n",
      "\n",
      "mf = cl.mem_flags\n",
      "a_buf = cl.Buffer(ctx, mf.READ_ONLY | mf.COPY_HOST_PTR, hostbuf=a)\n",
      "b_buf = cl.Buffer(ctx, mf.READ_ONLY | mf.COPY_HOST_PTR, hostbuf=b)\n",
      "dest_buf = cl.Buffer(ctx, mf.WRITE_ONLY, b.nbytes)\n",
      "\n",
      "prg = cl.Program(ctx, \"\"\"\n",
      "    __kernel void sum(__global const float *a,\n",
      "    __global const float *b, __global float *c)\n",
      "    {\n",
      "      int gid = get_global_id(0);\n",
      "      c[gid] = a[gid] + b[gid];\n",
      "    }\n",
      "    \"\"\").build()\n",
      "\n",
      "prg.sum(queue, a.shape, None, a_buf, b_buf, dest_buf)\n",
      "\n",
      "a_plus_b = numpy.empty_like(a)\n",
      "cl.enqueue_copy(queue, a_plus_b, dest_buf)\n",
      "\n",
      "print(la.norm(a_plus_b - (a+b)), la.norm(a_plus_b))"
     ],
     "language": "python",
     "metadata": {},
     "outputs": [
      {
       "output_type": "stream",
       "stream": "stdout",
       "text": [
        "(0.0, 241.44217)\n"
       ]
      }
     ],
     "prompt_number": 1
    },
    {
     "cell_type": "code",
     "collapsed": false,
     "input": [
      "import pyopencl as cl\n",
      "from pyopencl import array\n",
      "import numpy as np\n",
      "\n",
      "vector = np.zeros((1,1), cl.array.vec.float4)\n",
      "matrix = np.zeros((1,4), cl.array.vec.float4)\n",
      "matrix[0,0] = (1, 2, 4, 8)\n",
      "matrix[0,1] = (16, 32, 64, 128)\n",
      "matrix[0,2] = (3, 6, 8, 12)\n",
      "matrix[0,0] = (5, 10, 15, 25)\n",
      "vector[0,0] = (1, 2, 4, 8)\n",
      "\n",
      "# Step 1. Get the OpenCL platform\n",
      "platform = cl.get_platforms()[0]\n",
      "\n",
      "# Step 2 Obtain a device id for at least one device\n",
      "device = platform.get_devices()[1]\n",
      "print 'Available Devices on', platform.name, ':'\n",
      "for dev in platform.get_devices():\n",
      "    print ' -', dev.name\n",
      "# Step 3. Create a context for the device\n",
      "context = cl.Context([device])\n",
      "\n",
      "# Step 4. Create the accelerator program\n",
      "# Step 5. Build the program\n",
      "# Step 6. Create one or more kernels from the program functions\n",
      "\n",
      "program = cl.Program(context, '''\n",
      "__kernel void matrix_dot_vector(__global const float4 *matrix,\n",
      "                                __global const float4 *vector,\n",
      "                                __global float *result) {\n",
      "    int gid = get_global_id(0);\n",
      "    result[gid] = dot(matrix[gid], vector[0]);\n",
      "}\n",
      "''')\n",
      "program.build()\n",
      "\n",
      "# Step 7. Create a command queue for the target device\n",
      "queue = cl.CommandQueue(context)\n",
      "\n",
      "# Step 8. Allocate device memory and move input data from the host\n",
      "mem_flags = cl.mem_flags\n",
      "matrix_buf = cl.Buffer(context, mem_flags.READ_ONLY | mem_flags.COPY_HOST_PTR, hostbuf=matrix)\n",
      "vector_buf = cl.Buffer(context, mem_flags.READ_ONLY | mem_flags.COPY_HOST_PTR, hostbuf=vector)\n",
      "matrix_dot_vector = np.zeros(4, np.float32)\n",
      "destination_buf = cl.Buffer(context, mem_flags.WRITE_ONLY, matrix_dot_vector.nbytes)\n",
      "\n",
      "# Step 9. Associate the arguments to the kernel with kernel object.\n",
      "# Step 10. Deploy the kernel for device execution.\n",
      "program.matrix_dot_vector(queue, matrix_dot_vector.shape, None, matrix_buf, vector_buf, destination_buf)\n",
      "\n",
      "# Step 11. Move the kernel's output data to host memory.\n",
      "cl.enqueue_copy(queue, matrix_dot_vector, destination_buf)\n",
      "\n",
      "# Step 12. Release context, program, kernels, and memory.\n",
      "print matrix_dot_vector"
     ],
     "language": "python",
     "metadata": {},
     "outputs": [
      {
       "output_type": "stream",
       "stream": "stdout",
       "text": [
        "Available Devices on Apple :\n",
        " - Intel(R) Core(TM) i7-2720QM CPU @ 2.20GHz\n",
        " - ATI Radeon HD 6750M\n",
        "[  285.  1360.   143.     0.]\n"
       ]
      }
     ],
     "prompt_number": 16
    },
    {
     "cell_type": "code",
     "collapsed": false,
     "input": [],
     "language": "python",
     "metadata": {},
     "outputs": []
    }
   ],
   "metadata": {}
  }
 ]
}