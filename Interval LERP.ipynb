{
 "metadata": {
  "name": ""
 },
 "nbformat": 3,
 "nbformat_minor": 0,
 "worksheets": [
  {
   "cells": [
    {
     "cell_type": "markdown",
     "metadata": {},
     "source": [
      "### Case 1\n",
      "\n",
      "I am looking for a way to take two 1d datasets (time-series) and present them together. The problem that I face hers is that the intervals don't align and the spacing between the samples don't align.\n",
      "\n",
      "Consider the following example: a CTDBP instrument is producing temperature samples at 1Hz and is attached to a SLOCUM glider. The glider is producing a stream of GPS data (lat and lon), but computational data products require the inputs from both the CTDBP and the SLOCUM glider to produce correct values.\n",
      "\n"
     ]
    },
    {
     "cell_type": "code",
     "collapsed": false,
     "input": [
      "import numpy as np\n",
      "\n",
      "ctd_time = np.arange(20) # keep it simple\n",
      "\n",
      "temperature = np.array([ 29.93722254,  27.05056429,  28.64855585,  26.88969063,\n",
      "        28.76659113,  25.08029485,  29.4125627 ,  28.88918845,\n",
      "        29.41804023,  26.0571019 ,  26.21713162,  29.06384331,\n",
      "        29.79904262,  28.94555715,  25.12139669,  25.83435307,\n",
      "        25.93377691,  25.60278039,  27.33571148,  27.33384414])\n",
      "\n",
      "glider_time = np.arange(5,15,1.5)\n",
      "lat = np.array([ 41.35568012,  41.37886951,  41.37423229,  41.34434008,\n",
      "        41.30102358,  41.28451448,  41.30463439])\n",
      "lon = np.array([-71.40632629, -71.36032104, -71.29234314, -71.26831055,\n",
      "       -71.28410339, -71.32804871, -71.36856079])\n",
      "\n"
     ],
     "language": "python",
     "metadata": {},
     "outputs": [],
     "prompt_number": 1
    },
    {
     "cell_type": "markdown",
     "metadata": {},
     "source": [
      "If we plot out the times on a number line we can see that they don't overlap too well"
     ]
    },
    {
     "cell_type": "code",
     "collapsed": false,
     "input": [
      "fig = plt.subplot(111)\n",
      "fig.scatter(ctd_time,np.ones(ctd_time.shape), color=\"blue\", label=\"CTD Domain\")\n",
      "fig.scatter(glider_time, np.ones(glider_time.shape)*2, color=\"red\", label=\"Glider Domain\")\n",
      "fig.fill_between(ctd_time, np.ones(ctd_time.shape), color='blue', alpha=0.5)\n",
      "fig.fill_between(glider_time, np.ones(glider_time.shape)*2, color=\"red\", alpha=0.5)\n",
      "fig.grid(True)\n",
      "fig.set_autoscaley_on(False)\n",
      "fig.set_ylim([-.1,5])\n",
      "handles, labels = fig.get_legend_handles_labels()\n",
      "fig.legend(handles,labels, bbox_to_anchor=(1.05,1), loc=2)"
     ],
     "language": "python",
     "metadata": {},
     "outputs": [
      {
       "metadata": {},
       "output_type": "pyout",
       "prompt_number": 45,
       "text": [
        "<matplotlib.legend.Legend at 0x10f4eed50>"
       ]
      },
      {
       "metadata": {},
       "output_type": "display_data",
       "png": "[encoded data removed]",
       "text": [
        "<matplotlib.figure.Figure at 0x10f338bd0>"
       ]
      }
     ],
     "prompt_number": 45
    },
    {
     "cell_type": "markdown",
     "metadata": {},
     "source": [
      "Let's go ahead and set up an interpolator trained with our Glider vectors"
     ]
    },
    {
     "cell_type": "code",
     "collapsed": false,
     "input": [
      "import scipy.interpolate\n",
      "\n",
      "intp_lat = scipy.interpolate.interp1d(glider_time,lat)\n",
      "intp_lon = scipy.interpolate.interp1d(glider_time,lon)"
     ],
     "language": "python",
     "metadata": {},
     "outputs": [],
     "prompt_number": 28
    },
    {
     "cell_type": "markdown",
     "metadata": {},
     "source": [
      "If we map our CTDBP's domain over the interpolation function we can see where the lat/lons are."
     ]
    },
    {
     "cell_type": "code",
     "collapsed": false,
     "input": [
      "ctd_lat = intp_lat(ctd_time)\n",
      "ctd_lon = intp_lon(ctd_time)"
     ],
     "language": "python",
     "metadata": {},
     "outputs": [
      {
       "ename": "ValueError",
       "evalue": "A value in x_new is below the interpolation range.",
       "output_type": "pyerr",
       "traceback": [
        "\u001b[0;31m---------------------------------------------------------------------------\u001b[0m\n\u001b[0;31mValueError\u001b[0m                                Traceback (most recent call last)",
        "\u001b[0;32m<ipython-input-3-b981f9447297>\u001b[0m in \u001b[0;36m<module>\u001b[0;34m()\u001b[0m\n\u001b[0;32m----> 1\u001b[0;31m \u001b[0mctd_lat\u001b[0m \u001b[0;34m=\u001b[0m \u001b[0mintp_lat\u001b[0m\u001b[0;34m(\u001b[0m\u001b[0mctd_time\u001b[0m\u001b[0;34m)\u001b[0m\u001b[0;34m\u001b[0m\u001b[0m\n\u001b[0m\u001b[1;32m      2\u001b[0m \u001b[0mctd_lon\u001b[0m \u001b[0;34m=\u001b[0m \u001b[0mintp_lon\u001b[0m\u001b[0;34m(\u001b[0m\u001b[0mctd_time\u001b[0m\u001b[0;34m)\u001b[0m\u001b[0;34m\u001b[0m\u001b[0m\n",
        "\u001b[0;32m/Users/luke/Documents/Dev/virtenvs/work/lib/python2.7/site-packages/scipy/interpolate/polyint.pyc\u001b[0m in \u001b[0;36m__call__\u001b[0;34m(self, x)\u001b[0m\n\u001b[1;32m     50\u001b[0m         \"\"\"\n\u001b[1;32m     51\u001b[0m         \u001b[0mx\u001b[0m\u001b[0;34m,\u001b[0m \u001b[0mx_shape\u001b[0m \u001b[0;34m=\u001b[0m \u001b[0mself\u001b[0m\u001b[0;34m.\u001b[0m\u001b[0m_prepare_x\u001b[0m\u001b[0;34m(\u001b[0m\u001b[0mx\u001b[0m\u001b[0;34m)\u001b[0m\u001b[0;34m\u001b[0m\u001b[0m\n\u001b[0;32m---> 52\u001b[0;31m         \u001b[0my\u001b[0m \u001b[0;34m=\u001b[0m \u001b[0mself\u001b[0m\u001b[0;34m.\u001b[0m\u001b[0m_evaluate\u001b[0m\u001b[0;34m(\u001b[0m\u001b[0mx\u001b[0m\u001b[0;34m)\u001b[0m\u001b[0;34m\u001b[0m\u001b[0m\n\u001b[0m\u001b[1;32m     53\u001b[0m         \u001b[0;32mreturn\u001b[0m \u001b[0mself\u001b[0m\u001b[0;34m.\u001b[0m\u001b[0m_finish_y\u001b[0m\u001b[0;34m(\u001b[0m\u001b[0my\u001b[0m\u001b[0;34m,\u001b[0m \u001b[0mx_shape\u001b[0m\u001b[0;34m)\u001b[0m\u001b[0;34m\u001b[0m\u001b[0m\n\u001b[1;32m     54\u001b[0m \u001b[0;34m\u001b[0m\u001b[0m\n",
        "\u001b[0;32m/Users/luke/Documents/Dev/virtenvs/work/lib/python2.7/site-packages/scipy/interpolate/interpolate.pyc\u001b[0m in \u001b[0;36m_evaluate\u001b[0;34m(self, x_new)\u001b[0m\n\u001b[1;32m    439\u001b[0m         \u001b[0;31m#    The behavior is set by the bounds_error variable.\u001b[0m\u001b[0;34m\u001b[0m\u001b[0;34m\u001b[0m\u001b[0m\n\u001b[1;32m    440\u001b[0m         \u001b[0mx_new\u001b[0m \u001b[0;34m=\u001b[0m \u001b[0masarray\u001b[0m\u001b[0;34m(\u001b[0m\u001b[0mx_new\u001b[0m\u001b[0;34m)\u001b[0m\u001b[0;34m\u001b[0m\u001b[0m\n\u001b[0;32m--> 441\u001b[0;31m         \u001b[0mout_of_bounds\u001b[0m \u001b[0;34m=\u001b[0m \u001b[0mself\u001b[0m\u001b[0;34m.\u001b[0m\u001b[0m_check_bounds\u001b[0m\u001b[0;34m(\u001b[0m\u001b[0mx_new\u001b[0m\u001b[0;34m)\u001b[0m\u001b[0;34m\u001b[0m\u001b[0m\n\u001b[0m\u001b[1;32m    442\u001b[0m         \u001b[0my_new\u001b[0m \u001b[0;34m=\u001b[0m \u001b[0mself\u001b[0m\u001b[0;34m.\u001b[0m\u001b[0m_call\u001b[0m\u001b[0;34m(\u001b[0m\u001b[0mx_new\u001b[0m\u001b[0;34m)\u001b[0m\u001b[0;34m\u001b[0m\u001b[0m\n\u001b[1;32m    443\u001b[0m         \u001b[0;32mif\u001b[0m \u001b[0mlen\u001b[0m\u001b[0;34m(\u001b[0m\u001b[0my_new\u001b[0m\u001b[0;34m)\u001b[0m \u001b[0;34m>\u001b[0m \u001b[0;36m0\u001b[0m\u001b[0;34m:\u001b[0m\u001b[0;34m\u001b[0m\u001b[0m\n",
        "\u001b[0;32m/Users/luke/Documents/Dev/virtenvs/work/lib/python2.7/site-packages/scipy/interpolate/interpolate.pyc\u001b[0m in \u001b[0;36m_check_bounds\u001b[0;34m(self, x_new)\u001b[0m\n\u001b[1;32m    466\u001b[0m         \u001b[0;31m# !! Could provide more information about which values are out of bounds\u001b[0m\u001b[0;34m\u001b[0m\u001b[0;34m\u001b[0m\u001b[0m\n\u001b[1;32m    467\u001b[0m         \u001b[0;32mif\u001b[0m \u001b[0mself\u001b[0m\u001b[0;34m.\u001b[0m\u001b[0mbounds_error\u001b[0m \u001b[0;32mand\u001b[0m \u001b[0mbelow_bounds\u001b[0m\u001b[0;34m.\u001b[0m\u001b[0many\u001b[0m\u001b[0;34m(\u001b[0m\u001b[0;34m)\u001b[0m\u001b[0;34m:\u001b[0m\u001b[0;34m\u001b[0m\u001b[0m\n\u001b[0;32m--> 468\u001b[0;31m             raise ValueError(\"A value in x_new is below the interpolation \"\n\u001b[0m\u001b[1;32m    469\u001b[0m                 \"range.\")\n\u001b[1;32m    470\u001b[0m         \u001b[0;32mif\u001b[0m \u001b[0mself\u001b[0m\u001b[0;34m.\u001b[0m\u001b[0mbounds_error\u001b[0m \u001b[0;32mand\u001b[0m \u001b[0mabove_bounds\u001b[0m\u001b[0;34m.\u001b[0m\u001b[0many\u001b[0m\u001b[0;34m(\u001b[0m\u001b[0;34m)\u001b[0m\u001b[0;34m:\u001b[0m\u001b[0;34m\u001b[0m\u001b[0m\n",
        "\u001b[0;31mValueError\u001b[0m: A value in x_new is below the interpolation range."
       ]
      }
     ],
     "prompt_number": 3
    },
    {
     "cell_type": "markdown",
     "metadata": {},
     "source": [
      "That's a bust, so we need to identify only the domain that is applicable here."
     ]
    },
    {
     "cell_type": "code",
     "collapsed": false,
     "input": [
      "bitmap = np.logical_and(glider_time[0] <= ctd_time, ctd_time <= glider_time[-1])"
     ],
     "language": "python",
     "metadata": {},
     "outputs": [],
     "prompt_number": 18
    },
    {
     "cell_type": "code",
     "collapsed": false,
     "input": [
      "new_time = ctd_time[bitmap]\n",
      "\n",
      "ctd_lat = intp_lat(new_time)\n",
      "ctd_lon = intp_lon(new_time)"
     ],
     "language": "python",
     "metadata": {},
     "outputs": [],
     "prompt_number": 19
    },
    {
     "cell_type": "markdown",
     "metadata": {},
     "source": [
      "Now we can create our data granule:"
     ]
    },
    {
     "cell_type": "code",
     "collapsed": false,
     "input": [
      "granule = {\n",
      "    'time': new_time,\n",
      "    'lat': ctd_lat,\n",
      "    'lon': ctd_lon,\n",
      "    'temperature': temperature[bitmap]\n",
      "    }"
     ],
     "language": "python",
     "metadata": {},
     "outputs": [],
     "prompt_number": 21
    },
    {
     "cell_type": "markdown",
     "metadata": {},
     "source": [
      "Let's compare the values"
     ]
    },
    {
     "cell_type": "code",
     "collapsed": false,
     "input": [
      "fig = plt.subplot(111)\n",
      "p1 = fig.plot(new_time, ctd_lat, label=\"Interpolated values\")\n",
      "p2 = fig.plot(glider_time, lat, label=\"Actual Values\")\n",
      "handles, labels = fig.get_legend_handles_labels()\n",
      "fig.legend(handles,labels)"
     ],
     "language": "python",
     "metadata": {},
     "outputs": [
      {
       "metadata": {},
       "output_type": "pyout",
       "prompt_number": 27,
       "text": [
        "<matplotlib.legend.Legend at 0x10e87f610>"
       ]
      },
      {
       "metadata": {},
       "output_type": "display_data",
       "png": "[encoded data removed]",
       "text": [
        "<matplotlib.figure.Figure at 0x10e7ca7d0>"
       ]
      }
     ],
     "prompt_number": 27
    },
    {
     "cell_type": "code",
     "collapsed": false,
     "input": [],
     "language": "python",
     "metadata": {},
     "outputs": []
    }
   ],
   "metadata": {}
  }
 ]
}