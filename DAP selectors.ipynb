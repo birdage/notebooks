{
 "metadata": {
  "name": ""
 },
 "nbformat": 3,
 "nbformat_minor": 0,
 "worksheets": [
  {
   "cells": [
    {
     "cell_type": "code",
     "collapsed": false,
     "input": [
      "from urllib import unquote\n",
      "import re\n",
      "def parse_query_string(query_string):\n",
      "    tokens = query_string.split('&')\n",
      "    fields = []\n",
      "    selectors = []\n",
      "    slices = []\n",
      "    dap_selection_operators = ['<', '<=', '>', '>=', '=', '!=', '=~']\n",
      "    slice_operators = ['[', ':', ']']\n",
      "    for token in tokens:\n",
      "        print 'token',token\n",
      "        token = unquote(token)\n",
      "        if not token: # ignore the case where the url ends in nothing or a &\n",
      "            continue\n",
      "        token_identified = False\n",
      "        for selector in dap_selection_operators:\n",
      "            if selector in token:\n",
      "                selectors.append(token)\n",
      "                token_identified = True\n",
      "                break\n",
      "        for operator in slice_operators:\n",
      "            if operator in token:\n",
      "                slices.append(token)\n",
      "                token_identified = True\n",
      "                break\n",
      "        if not token_identified:\n",
      "            fields = token.split(',')\n",
      "\n",
      "    return fields, slices, selectors\n",
      "\n",
      "def parse_slices(slice_operator):\n",
      "    pivot = slice_operator.find('[')\n",
      "    field = slice_operator[:pivot]\n",
      "    slicer = slice_operator[pivot:]\n",
      "    # Strip away the outer []s\n",
      "    slicer = slicer[1:-1]\n",
      "    # Separte the slice into tokens separated by :\n",
      "    start,stride,stop = slicer.split(':')\n",
      "    start = int(start)\n",
      "    stride = int(stride)\n",
      "    stop = int(stop)+1\n",
      "    slice_ = slice(start,stride,stop)\n",
      "    return field, slice_\n",
      "\n",
      "def parse_selectors(selector):\n",
      "    matches = re.match(r'([a-zA-Z0-9-_]+)(<=|<|>=|>|=~|!=|=)(.*)', selector)\n",
      "    field, operator, value = matches.groups()\n",
      "    value = value.replace('\"','')\n",
      "    value = value.replace(\"'\",'')\n",
      "    return field, operator, value\n",
      "\n",
      "\n"
     ],
     "language": "python",
     "metadata": {},
     "outputs": [],
     "prompt_number": 38
    },
    {
     "cell_type": "code",
     "collapsed": false,
     "input": [
      "query_string = 'cmbnflg_qc,conductivity,condwat_glblrng_qc,condwat_gradtst_qc,condwat_loclrng_qc,condwat_spketst_qc,condwat_stuckvl_qc,condwat_trndtst_qc,density,density_glblrng_qc,density_gradtst_qc,density_loclrng_qc,density_spketst_qc,density_stuckvl_qc,density_trndtst_qc,driver_timestamp,ingestion_timestamp,internal_timestamp,lat,lon,port_timestamp,pracsal_glblrng_qc,pracsal_gradtst_qc,pracsal_loclrng_qc,pracsal_spketst_qc,pracsal_stuckvl_qc,pracsal_trndtst_qc,preferred_timestamp,pressure,preswat_glblrng_qc,preswat_gradtst_qc,preswat_loclrng_qc,preswat_spketst_qc,preswat_stuckvl_qc,preswat_trndtst_qc,quality_flag,salinity,temp,tempwat_glblrng_qc,tempwat_gradtst_qc,tempwat_loclrng_qc,tempwat_spketst_qc,tempwat_stuckvl_qc,tempwat_trndtst_qc,time&time%3E=%222.2089888E9%22'\n",
      "fields, slices, selectors = parse_query_string(query_string)\n",
      "print fields\n",
      "print slices \n",
      "print selectors"
     ],
     "language": "python",
     "metadata": {},
     "outputs": [
      {
       "output_type": "stream",
       "stream": "stdout",
       "text": [
        "token cmbnflg_qc,conductivity,condwat_glblrng_qc,condwat_gradtst_qc,condwat_loclrng_qc,condwat_spketst_qc,condwat_stuckvl_qc,condwat_trndtst_qc,density,density_glblrng_qc,density_gradtst_qc,density_loclrng_qc,density_spketst_qc,density_stuckvl_qc,density_trndtst_qc,driver_timestamp,ingestion_timestamp,internal_timestamp,lat,lon,port_timestamp,pracsal_glblrng_qc,pracsal_gradtst_qc,pracsal_loclrng_qc,pracsal_spketst_qc,pracsal_stuckvl_qc,pracsal_trndtst_qc,preferred_timestamp,pressure,preswat_glblrng_qc,preswat_gradtst_qc,preswat_loclrng_qc,preswat_spketst_qc,preswat_stuckvl_qc,preswat_trndtst_qc,quality_flag,salinity,temp,tempwat_glblrng_qc,tempwat_gradtst_qc,tempwat_loclrng_qc,tempwat_spketst_qc,tempwat_stuckvl_qc,tempwat_trndtst_qc,time\n",
        "token time%3E=%222.2089888E9%22\n",
        "['cmbnflg_qc', 'conductivity', 'condwat_glblrng_qc', 'condwat_gradtst_qc', 'condwat_loclrng_qc', 'condwat_spketst_qc', 'condwat_stuckvl_qc', 'condwat_trndtst_qc', 'density', 'density_glblrng_qc', 'density_gradtst_qc', 'density_loclrng_qc', 'density_spketst_qc', 'density_stuckvl_qc', 'density_trndtst_qc', 'driver_timestamp', 'ingestion_timestamp', 'internal_timestamp', 'lat', 'lon', 'port_timestamp', 'pracsal_glblrng_qc', 'pracsal_gradtst_qc', 'pracsal_loclrng_qc', 'pracsal_spketst_qc', 'pracsal_stuckvl_qc', 'pracsal_trndtst_qc', 'preferred_timestamp', 'pressure', 'preswat_glblrng_qc', 'preswat_gradtst_qc', 'preswat_loclrng_qc', 'preswat_spketst_qc', 'preswat_stuckvl_qc', 'preswat_trndtst_qc', 'quality_flag', 'salinity', 'temp', 'tempwat_glblrng_qc', 'tempwat_gradtst_qc', 'tempwat_loclrng_qc', 'tempwat_spketst_qc', 'tempwat_stuckvl_qc', 'tempwat_trndtst_qc', 'time']\n",
        "[]\n",
        "['time>=\"2.2089888E9\"']\n"
       ]
      }
     ],
     "prompt_number": 39
    },
    {
     "cell_type": "code",
     "collapsed": false,
     "input": [
      "selector_string = ' '.join(parse_selectors(selectors[0]))"
     ],
     "language": "python",
     "metadata": {},
     "outputs": [],
     "prompt_number": 51
    },
    {
     "cell_type": "code",
     "collapsed": false,
     "input": [
      "selector_string"
     ],
     "language": "python",
     "metadata": {},
     "outputs": [
      {
       "metadata": {},
       "output_type": "pyout",
       "prompt_number": 52,
       "text": [
        "'time >= 2.2089888E9'"
       ]
      }
     ],
     "prompt_number": 52
    },
    {
     "cell_type": "code",
     "collapsed": false,
     "input": [
      "a = 'data.time'\n",
      "a.startswith"
     ],
     "language": "python",
     "metadata": {},
     "outputs": [
      {
       "metadata": {},
       "output_type": "pyout",
       "prompt_number": 19,
       "text": [
        "'ime'"
       ]
      }
     ],
     "prompt_number": 19
    },
    {
     "cell_type": "code",
     "collapsed": false,
     "input": [
      "import numexpr as ne\n",
      "ugly_time = np.arange(90)"
     ],
     "language": "python",
     "metadata": {},
     "outputs": [
      {
       "output_type": "stream",
       "stream": "stderr",
       "text": [
        "/Users/luke/Documents/Dev/virtenvs/work/lib/python2.7/site-packages/numexpr/cpuinfo.py:71: UserWarning: [Errno 2] No such file or directory\n",
        "  stacklevel=stacklevel+1):\n"
       ]
      }
     ],
     "prompt_number": 41
    },
    {
     "cell_type": "code",
     "collapsed": false,
     "input": [
      "ne.evaluate('(ugly_time = 10)')"
     ],
     "language": "python",
     "metadata": {},
     "outputs": [
      {
       "ename": "SyntaxError",
       "evalue": "invalid syntax (<expr>, line 1)",
       "output_type": "pyerr",
       "traceback": [
        "\u001b[0;36m  File \u001b[0;32m\"<expr>\"\u001b[0;36m, line \u001b[0;32m1\u001b[0m\n\u001b[0;31m    (ugly_time = 10)\u001b[0m\n\u001b[0m               ^\u001b[0m\n\u001b[0;31mSyntaxError\u001b[0m\u001b[0;31m:\u001b[0m invalid syntax\n"
       ]
      }
     ],
     "prompt_number": 54
    },
    {
     "cell_type": "code",
     "collapsed": false,
     "input": [],
     "language": "python",
     "metadata": {},
     "outputs": []
    }
   ],
   "metadata": {}
  }
 ]
}