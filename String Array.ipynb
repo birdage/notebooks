{
 "metadata": {
  "name": "String Array"
 },
 "nbformat": 3,
 "nbformat_minor": 0,
 "worksheets": [
  {
   "cells": [
    {
     "cell_type": "code",
     "collapsed": false,
     "input": [
      "import sys\n",
      "def offset(index, shape):\n",
      "    ndim = len(shape)\n",
      "    offset = 0\n",
      "    for i in xrange(ndim):\n",
      "        a = 1\n",
      "        for j in xrange(i+1,ndim):\n",
      "            a*=shape[j]\n",
      "            print 'a: ', a\n",
      "        offset += a * index[i]\n",
      "    return offset\n",
      "\n",
      "def stringify(nd_array, shape, dim=0, index=None):\n",
      "    if index is None:\n",
      "        index = []\n",
      "    ndim = len(shape)\n",
      "    if dim == ndim:\n",
      "        sys.stdout.write('%s ' % nd_array[offset(index,shape)] )\n",
      "        return\n",
      "    for i in xrange(shape[dim]):\n",
      "\n",
      "        if dim < (ndim-1):\n",
      "            sys.stdout.write('[')\n",
      "        index.append(i)\n",
      "        stringify(nd_array, shape, dim+1, index)\n",
      "        index.pop(-1)\n",
      "        if dim < (ndim-1):\n",
      "            sys.stdout.write(']')\n",
      "            if i < (shape[dim]-1):\n",
      "                sys.stdout.write('\\n')\n",
      "                for j in xrange(dim):\n",
      "                    sys.stdout.write(' ')\n",
      "        \n",
      "    \n",
      "    \n",
      "    "
     ],
     "language": "python",
     "metadata": {},
     "outputs": [],
     "prompt_number": 41
    },
    {
     "cell_type": "code",
     "collapsed": false,
     "input": [
      "print offset((0,0,1,0), (2,2,2,4))"
     ],
     "language": "python",
     "metadata": {},
     "outputs": [
      {
       "output_type": "stream",
       "stream": "stdout",
       "text": [
        "a:  2\n",
        "a:  4\n",
        "a:  16\n",
        "a:  2\n",
        "a:  8\n",
        "a:  4\n",
        "4\n"
       ]
      }
     ],
     "prompt_number": 42
    },
    {
     "cell_type": "code",
     "collapsed": false,
     "input": [],
     "language": "python",
     "metadata": {},
     "outputs": []
    }
   ],
   "metadata": {}
  }
 ]
}