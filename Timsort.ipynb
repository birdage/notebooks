{
 "metadata": {
  "name": ""
 },
 "nbformat": 3,
 "nbformat_minor": 0,
 "worksheets": [
  {
   "cells": [
    {
     "cell_type": "code",
     "collapsed": false,
     "input": [
      "def count_run(arr, i):\n",
      "    ascending = None\n",
      "    count = 1\n",
      "    t = arr[i]\n",
      "    for j in xrange(i+1,len(arr)):\n",
      "        if ascending is None:\n",
      "            ascending = t <= arr[j]\n",
      "            t = arr[j]\n",
      "            count += 1\n",
      "            continue\n",
      "        if ascending:\n",
      "            if t <= arr[j]:\n",
      "               t = arr[j]\n",
      "               count += 1\n",
      "            else:\n",
      "                return count\n",
      "        else:\n",
      "            if t > arr[j]:\n",
      "                t = arr[j]\n",
      "                count += 1\n",
      "            else:\n",
      "                return count\n",
      "    return count\n",
      "\n",
      "\n",
      "\n",
      "def merge_compute_minrun(n):\n",
      "    r = 0\n",
      "    assert n >= 0\n",
      "    while n >= 64:\n",
      "        r |= n & 1\n",
      "        n = n >> 1\n",
      "    return n + r\n"
     ],
     "language": "python",
     "metadata": {},
     "outputs": [],
     "prompt_number": 11
    },
    {
     "cell_type": "code",
     "collapsed": false,
     "input": [
      "l = [1, 2, 3, 1, 2, 3, 4, 5, 6, 3, 2, 1]\n",
      "count_run(l,11)\n",
      "\n",
      "merge_compute_minrun(13)"
     ],
     "language": "python",
     "metadata": {},
     "outputs": [
      {
       "metadata": {},
       "output_type": "pyout",
       "prompt_number": 25,
       "text": [
        "13"
       ]
      }
     ],
     "prompt_number": 25
    },
    {
     "cell_type": "code",
     "collapsed": false,
     "input": [
      "n = 0b10011101\n",
      "r = 0\n",
      "r |= n & 1\n",
      "bin(r)"
     ],
     "language": "python",
     "metadata": {},
     "outputs": [
      {
       "metadata": {},
       "output_type": "pyout",
       "prompt_number": 40,
       "text": [
        "'0b1'"
       ]
      }
     ],
     "prompt_number": 40
    },
    {
     "cell_type": "code",
     "collapsed": false,
     "input": [
      "n>>=1 \n",
      "r|= n & 1\n",
      "bin(r)\n"
     ],
     "language": "python",
     "metadata": {},
     "outputs": [
      {
       "metadata": {},
       "output_type": "pyout",
       "prompt_number": 43,
       "text": [
        "'0b1'"
       ]
      }
     ],
     "prompt_number": 43
    },
    {
     "cell_type": "code",
     "collapsed": false,
     "input": [
      "r"
     ],
     "language": "python",
     "metadata": {},
     "outputs": [
      {
       "metadata": {},
       "output_type": "pyout",
       "prompt_number": 45,
       "text": [
        "1"
       ]
      }
     ],
     "prompt_number": 45
    },
    {
     "cell_type": "code",
     "collapsed": false,
     "input": [],
     "language": "python",
     "metadata": {},
     "outputs": []
    }
   ],
   "metadata": {}
  }
 ]
}