{
 "metadata": {
  "name": ""
 },
 "nbformat": 3,
 "nbformat_minor": 0,
 "worksheets": [
  {
   "cells": [
    {
     "cell_type": "markdown",
     "metadata": {},
     "source": [
      "# General Notes\n",
      "\n",
      "1. Building a general data structure will generally improve search performance to around $O(n)$ but the generating the structure takes $O(h\\cdot n)$ time where $h$ is the height of the tree, in a general binary range tree $h=\\lg n$\n",
      "\n",
      "2. When it comes to the OOI CDM, building a data structure may be too costly in terms of performance vs a standard comparison which is $O(n)$. \n",
      "   \n",
      "   Typically, for retrieval operations a coverage is instantiated referencing a persisted coverage, it is only instantiated for the one query, no cache is used so if we performed an orthogonal range query against the OOI CDM it would take $O(n)$ time but if we initialized a complex data structure it would take $O(n \\cdot h)$ time.\n"
     ]
    },
    {
     "cell_type": "markdown",
     "metadata": {},
     "source": [
      "# Interval Trees\n",
      "\n",
      "### Interval Properties\n",
      "\n",
      "A 1-d interval comrpises two scalar values: $P:=(x,x')$\n",
      "\n",
      "#### Equivalency Property\n",
      "\n",
      "An interval $P$ is equivalent to $Q$ if and only if $P(x) = Q(x)$ and $P(x') = Q(x')$.\n",
      "\n",
      "$P(x) = Q(x) \\land P(x') = Q(x') \\iff P = Q$\n",
      "\n",
      "#### Disjoint Property\n",
      "\n",
      "$P$ is disjoint from $Q$ if $P(x') \\le Q(x)$, this disjoint property also describes order: we can describe $P$ as preceeding $Q$ if the members of $P$ are less than or equal to $Q$.\n",
      "\n",
      "$$P(x') \\le Q(x) \\Rightarrow P < Q$$\n",
      "\n",
      "#### Contains Property\n",
      "\n",
      "$P$ contains $Q$ if $P(x) < Q(x)$ and $ P(x') > Q(x')$, this contains property also describes order: we say that $P$ comes before $Q$ if $Q$ is complete contained inside $P$. This property is important for tree construction.\n",
      "\n",
      "$$ P(x) \\le Q(x) \\wedge P(x') \\le Q(x') \\Rightarrow P < Q $$\n",
      "\n",
      "#### Intersection Property\n",
      "\n",
      "$P$ intersects $Q$ if $P(x)$ or $P(x')$ is between $(Q(x),Q(x'))$. To maintain order, we say that if $P$ intersects $Q$ then $P < Q$ if $P(x) < Q(x)$.\n",
      "\n",
      "$$ \\left(Q(x) < P(x) < Q(x') \\lor Q(x) <= P(x') <= Q(x')\\right) \\land \\left(P(x) < Q(x)\\right) \\Rightarrow P < Q $$\n",
      "\n",
      "#### Precedence Property\n",
      "\n",
      "Based on the above properties you can assert that if $P(x) < Q(x)$ then $P < Q$.\n",
      "\n",
      "Proof:\n",
      "\n",
      "If $P(x) < Q(x)$ then $P$ is either \n",
      "\n",
      " - disjoint if $P(x') < Q(x)$, which implies $P < Q$ by the disjoint property\n",
      " - contains $Q$ if $P(x') \\ge Q(x')$ which implies $P < Q$.\n",
      " - intersects $Q$ if $P(x') \\in \\left[Q(x), Q(x')\\right]$, which implies $P < Q$.\n",
      " \n",
      "We can extend this property in that if $P(x) = Q(x)$ then $P < Q$ if $P(x') > Q(x')$ by the contains property.\n",
      "\n",
      "## Interval Tree\n",
      "\n",
      "In computer science, an interval tree is an ordered tree data structure to hold intervals. Specifically, it allows one to efficiently find all intervals that overlap with any given interval or point. It is often used for windowing queries, for instance, to find all roads on a computerized map inside a rectangular viewport, or to find all visible elements inside a three-dimensional scene. A similar data structure is the segment tree.\n",
      "\n",
      "### Construction\n",
      "\n",
      "We will construct an interval tree that contains $I$, a set of intervals.\n",
      "\n",
      "#### Interval Class"
     ]
    },
    {
     "cell_type": "code",
     "collapsed": false,
     "input": [
      "class Interval:\n",
      "    '''\n",
      "    A class that represents a 1-d interval\n",
      "    '''\n",
      "    def __init__(self, x0, x1, left=None, right=None):\n",
      "        assert x0 <= x1\n",
      "        self.x0 = x0\n",
      "        self.x1 = x1\n",
      "        self.left = left\n",
      "        self.right = right\n",
      "\n",
      "    def __repr__(self):\n",
      "        retval =  '(%s,%s)' % (self.x0, self.x1)\n",
      "        if self.left or self.right:\n",
      "            retval += \"'\"\n",
      "        return retval\n",
      "\n",
      "\n",
      "    def __cmp__(self, other):\n",
      "        if self.x0 < other.x0:\n",
      "            return -1\n",
      "        elif self.x0 > other.x0:\n",
      "            return 1\n",
      "        else: # self.x0 == other.x0:\n",
      "            if self.x1 > other.x1:\n",
      "                return -1\n",
      "            elif self.x1 < other.x1:\n",
      "                return 1\n",
      "        return 0\n",
      "\n",
      "    def contains(self, other):\n",
      "        return self.x0 <= other.x0 and self.x1 >= other.x1\n",
      "\n",
      "    def intersects(self, other):\n",
      "        return (other.x0 < self.x0 and self.x0 < other.x1) or (other.x0 < self.x1 < other.x1)\n"
     ],
     "language": "python",
     "metadata": {},
     "outputs": [],
     "prompt_number": 42
    },
    {
     "cell_type": "markdown",
     "metadata": {},
     "source": [
      "Next is the algorithm to construct the tree\n",
      "#### Tree Construction"
     ]
    },
    {
     "cell_type": "code",
     "collapsed": false,
     "input": [
      "def construct_tree(interval_list):\n",
      "    '''\n",
      "    Constructs a balanced range tree given a list of sorted intervals\n",
      "    '''\n",
      "    q = []\n",
      "    if len(interval_list) == 1:\n",
      "        # Root node\n",
      "        return interval_list[0]\n",
      "    I = interval_list\n",
      "    for i in xrange(0,len(I),2):\n",
      "        # pair the next two points in the list\n",
      "        if i == len(I)-1:\n",
      "            q.append(I[i])\n",
      "            return construct_tree(q)\n",
      "        x0 = I[i].x0\n",
      "        x1 = max(I[i].x1, I[i+1].x1)\n",
      "        left = I[i]\n",
      "        right = I[i+1]\n",
      "        n = Interval(x0, x1, left, right)\n",
      "        q.append(n)\n",
      "    return construct_tree(q)\n"
     ],
     "language": "python",
     "metadata": {},
     "outputs": [],
     "prompt_number": 43
    },
    {
     "cell_type": "markdown",
     "metadata": {},
     "source": [
      "#### Sorting the Intervals"
     ]
    },
    {
     "cell_type": "code",
     "collapsed": false,
     "input": [
      "def swap(arr, i0, i1):\n",
      "    if i0 != i1:\n",
      "        t = arr[i0]\n",
      "        arr[i0] = arr[i1]\n",
      "        arr[i1] = t\n",
      "\n",
      "def qsort_partition(arr, left, right, pivot):\n",
      "    val = arr[pivot]\n",
      "    swap(arr,pivot,right)\n",
      "    store_index = left\n",
      "    for i in xrange(left, right):\n",
      "        if arr[i] < val:\n",
      "            swap(arr, i, store_index)\n",
      "            store_index += 1\n",
      "    swap(arr, store_index, right)\n",
      "    return store_index\n",
      "\n",
      "def qsort(arr, left=None, right=None):\n",
      "    if left is None:\n",
      "        left = 0\n",
      "    if right is None:\n",
      "        right = len(arr)-1\n",
      "    if left < right:\n",
      "        pivot = (right - left) / 2 + left\n",
      "        pivot = qsort_partition(arr, left, right, pivot)\n",
      "        qsort(arr, left, pivot-1)\n",
      "        qsort(arr, pivot+1, right)\n"
     ],
     "language": "python",
     "metadata": {},
     "outputs": [],
     "prompt_number": 44
    },
    {
     "cell_type": "markdown",
     "metadata": {},
     "source": [
      "For a simple example, I will make a list of arbitrary intervals, sort it and display it."
     ]
    },
    {
     "cell_type": "code",
     "collapsed": false,
     "input": [
      "interval_list = [\n",
      "    Interval(0,1),\n",
      "    Interval(5,10),\n",
      "    Interval(7,10),\n",
      "    Interval(3,7),\n",
      "    Interval(2,6)\n",
      "    ]\n",
      "qsort(interval_list)\n",
      "interval_list"
     ],
     "language": "python",
     "metadata": {},
     "outputs": [
      {
       "metadata": {},
       "output_type": "pyout",
       "prompt_number": 45,
       "text": [
        "[(0,1), (2,6), (3,7), (5,10), (7,10)]"
       ]
      }
     ],
     "prompt_number": 45
    },
    {
     "cell_type": "markdown",
     "metadata": {},
     "source": [
      "Time to construct our tree:"
     ]
    },
    {
     "cell_type": "code",
     "collapsed": false,
     "input": [
      "tree = construct_tree(interval_list)"
     ],
     "language": "python",
     "metadata": {},
     "outputs": [],
     "prompt_number": 46
    },
    {
     "cell_type": "markdown",
     "metadata": {},
     "source": [
      "In order to properly show the tree, I will include this function that traverses the tree and outputs DOT script that can be pasted into SVG"
     ]
    },
    {
     "cell_type": "code",
     "collapsed": false,
     "input": [
      "from uuid import uuid4\n",
      "def _dot_tree(root):\n",
      "    if not hasattr(root,'id'):\n",
      "        root.id = uuid4().hex\n",
      "\n",
      "    print '  n_%s [label=\"%s\"]' % (root.id, repr(root))\n",
      "\n",
      "    if root.left:\n",
      "        _dot_tree(root.left)\n",
      "        print \"  n_%s -> n_%s\" %(root.id, root.left.id)\n",
      "\n",
      "    if root.right:\n",
      "        _dot_tree(root.right)\n",
      "        print \"  n_%s -> n_%s\" %(root.id, root.right.id)\n",
      "\n",
      "def dot_tree(root):\n",
      "    print 'digarph G {'\n",
      "    _dot_tree(root)\n",
      "    print '}\\n'\n"
     ],
     "language": "python",
     "metadata": {},
     "outputs": [],
     "prompt_number": 47
    },
    {
     "cell_type": "markdown",
     "metadata": {},
     "source": [
      "Here's the example output from our example:"
     ]
    },
    {
     "cell_type": "code",
     "collapsed": false,
     "input": [
      "dot_tree(tree)"
     ],
     "language": "python",
     "metadata": {},
     "outputs": [
      {
       "output_type": "stream",
       "stream": "stdout",
       "text": [
        "digarph G {\n",
        "  n_bb48717c62bb4be6afc62bab59040e47 [label=\"(0,10)'\"]\n",
        "  n_b532a6d4c5c04fd39919976fe53e54fa [label=\"(0,10)'\"]\n",
        "  n_6c950305ea934f4998ceb79059b2de90 [label=\"(0,6)'\"]\n",
        "  n_7affb876b61e44bc9e788c4302b3e176 [label=\"(0,1)\"]\n",
        "  n_6c950305ea934f4998ceb79059b2de90 -> n_7affb876b61e44bc9e788c4302b3e176\n",
        "  n_d86897d0f4194330adde2e24438c7ef8 [label=\"(2,6)\"]\n",
        "  n_6c950305ea934f4998ceb79059b2de90 -> n_d86897d0f4194330adde2e24438c7ef8\n",
        "  n_b532a6d4c5c04fd39919976fe53e54fa -> n_6c950305ea934f4998ceb79059b2de90\n",
        "  n_435512ba2f254ab0bc10393c1c68bb5b [label=\"(3,10)'\"]\n",
        "  n_a3fbdaad808a4ea2bfb6b9d8ed46bfd5 [label=\"(3,7)\"]\n",
        "  n_435512ba2f254ab0bc10393c1c68bb5b -> n_a3fbdaad808a4ea2bfb6b9d8ed46bfd5\n",
        "  n_92473a4bbda64596bb49aa66c1c9fb9c [label=\"(5,10)\"]\n",
        "  n_435512ba2f254ab0bc10393c1c68bb5b -> n_92473a4bbda64596bb49aa66c1c9fb9c\n",
        "  n_b532a6d4c5c04fd39919976fe53e54fa -> n_435512ba2f254ab0bc10393c1c68bb5b\n",
        "  n_bb48717c62bb4be6afc62bab59040e47 -> n_b532a6d4c5c04fd39919976fe53e54fa\n",
        "  n_8914720cfa0e4d9189d3d36d6bc1d853 [label=\"(7,10)\"]\n",
        "  n_bb48717c62bb4be6afc62bab59040e47 -> n_8914720cfa0e4d9189d3d36d6bc1d853\n",
        "}\n",
        "\n"
       ]
      }
     ],
     "prompt_number": 48
    },
    {
     "cell_type": "markdown",
     "metadata": {},
     "source": [
      "Here's the output as a PNG\n",
      "![Graph](files/images/graph.png)"
     ]
    },
    {
     "cell_type": "markdown",
     "metadata": {},
     "source": [
      "### Using the Tree\n",
      "\n",
      "The next algorithm is a key algoritm that is the basis for many searching, traversal and set operations."
     ]
    },
    {
     "cell_type": "code",
     "collapsed": false,
     "input": [
      "def vsplit(t, x0, x1):\n",
      "    i = Interval(x0,x1)\n",
      "    v = t\n",
      "    while v.left and v.right and v.contains(i):\n",
      "        if v.left.contains(i) and not v.right.intersects(i):\n",
      "            v = v.left\n",
      "        elif v.right.contains(i) and not v.left.intersects(i):\n",
      "            v = v.right\n",
      "        else:\n",
      "            return v\n",
      "    return v\n"
     ],
     "language": "python",
     "metadata": {},
     "outputs": [],
     "prompt_number": 49
    },
    {
     "cell_type": "code",
     "collapsed": false,
     "input": [
      "vs = vsplit(tree, 4,8)"
     ],
     "language": "python",
     "metadata": {},
     "outputs": [],
     "prompt_number": 50
    },
    {
     "cell_type": "code",
     "collapsed": false,
     "input": [],
     "language": "python",
     "metadata": {},
     "outputs": [
      {
       "metadata": {},
       "output_type": "pyout",
       "prompt_number": 41,
       "text": [
        "(3,10)'"
       ]
      }
     ],
     "prompt_number": 41
    },
    {
     "cell_type": "code",
     "collapsed": false,
     "input": [],
     "language": "python",
     "metadata": {},
     "outputs": []
    }
   ],
   "metadata": {}
  }
 ]
}