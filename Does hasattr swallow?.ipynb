{
 "metadata": {
  "name": ""
 },
 "nbformat": 3,
 "nbformat_minor": 0,
 "worksheets": [
  {
   "cells": [
    {
     "cell_type": "code",
     "collapsed": false,
     "input": [
      "\n",
      "class Blah:\n",
      "\n",
      "    def hi(self):\n",
      "        pass\n",
      "    \n",
      "            \n",
      "            \n"
     ],
     "language": "python",
     "metadata": {},
     "outputs": [],
     "prompt_number": 8
    },
    {
     "cell_type": "code",
     "collapsed": false,
     "input": [
      "b = Blah()\n",
      "getattr(b, 'ugh')"
     ],
     "language": "python",
     "metadata": {},
     "outputs": [
      {
       "ename": "AttributeError",
       "evalue": "Blah instance has no attribute 'ugh'",
       "output_type": "pyerr",
       "traceback": [
        "\u001b[0;31m---------------------------------------------------------------------------\u001b[0m\n\u001b[0;31mAttributeError\u001b[0m                            Traceback (most recent call last)",
        "\u001b[0;32m<ipython-input-10-c4a31fc9e16d>\u001b[0m in \u001b[0;36m<module>\u001b[0;34m()\u001b[0m\n\u001b[1;32m      1\u001b[0m \u001b[0mb\u001b[0m \u001b[0;34m=\u001b[0m \u001b[0mBlah\u001b[0m\u001b[0;34m(\u001b[0m\u001b[0;34m)\u001b[0m\u001b[0;34m\u001b[0m\u001b[0m\n\u001b[0;32m----> 2\u001b[0;31m \u001b[0mgetattr\u001b[0m\u001b[0;34m(\u001b[0m\u001b[0mb\u001b[0m\u001b[0;34m,\u001b[0m \u001b[0;34m'ugh'\u001b[0m\u001b[0;34m)\u001b[0m\u001b[0;34m\u001b[0m\u001b[0m\n\u001b[0m",
        "\u001b[0;31mAttributeError\u001b[0m: Blah instance has no attribute 'ugh'"
       ]
      }
     ],
     "prompt_number": 10
    },
    {
     "cell_type": "markdown",
     "metadata": {},
     "source": [
      "Fellow Coders,\n",
      "\n",
      "I just had a frightening revelation about `hasattr` in Python. For the longest\n",
      "time I had assumed that `hasattr` was a very simple piece of code that returned\n",
      "`True` if an object had the attribute or `False` if it didn't, what I didn't\n",
      "know is that if any exceptions are raised by `getattr`, not just\n",
      "`AttributeException` the exceptions are completely unmanaged and swallowed by\n",
      "`hasattr`. Essentially this is what `hasattr` is in Python:\n",
      "\n",
      "\n",
      "        def hasattr(obj, key):\n",
      "            try:\n",
      "                getattr(obj,key)\n",
      "                return True\n",
      "            except:\n",
      "                return False\n",
      "\n",
      "The specific area that is going to require very careful scrutiny is that we\n",
      "overrode the `getattr` behavior to dynamically load an HDF5 file and retrieve a\n",
      "variable length string attribute from the file in some of our objects but when\n",
      "we used `hasattr` it was swallowing all the exceptions like file permissions,\n",
      "locked file, or corruption and simply telling us that the attribute didn't exist\n",
      "which causes a whole new branch of logic to execute.\n",
      "\n",
      "Scary stuff amigos\n"
     ]
    },
    {
     "cell_type": "code",
     "collapsed": false,
     "input": [],
     "language": "python",
     "metadata": {},
     "outputs": []
    }
   ],
   "metadata": {}
  }
 ]
}