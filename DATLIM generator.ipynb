{
 "metadata": {
  "name": "DATLIM generator"
 },
 "nbformat": 3,
 "nbformat_minor": 0,
 "worksheets": [
  {
   "cells": [
    {
     "cell_type": "code",
     "collapsed": false,
     "input": [
      "import numpy as np\n",
      "lat1 = 46.436926\n",
      "lat2 = 47.392443\n",
      "lats = np.arange(lat1, lat2, (lat2-lat1)/4.)\n",
      "\n",
      "lon1 = -124.832179\n",
      "lon2 = -126.942080\n",
      "lons = np.arange(lon1, lon2, (lon2 - lon1)/4.)\n",
      "\n",
      "pressure = np.arange(0,150,150/4.)\n",
      "\n",
      "lon_grid, lat_grid, pressure_grid = np.meshgrid(lons, lats, pressure)\n",
      "\n",
      "\n",
      "def lim1(x,y,z):\n",
      "    x1 = np.where(x >= lons)[0]\n",
      "    x1 = x1[0]\n",
      "    \n",
      "    y1 = np.where( y <= lats)[0]\n",
      "    y1 = y1[0]\n",
      "    \n",
      "    z1 = np.where(z <= pressure)[0]\n",
      "    z1 = z1[0]\n",
      "\n",
      "    return 10*x1 + 10*y1 + 10*z1\n",
      "\n",
      "def lim2(x,y,z):\n",
      "    return lim1(x,y,z)+30\n",
      "vlim1 = np.vectorize(lim1)\n",
      "vlim2 = np.vectorize(lim2)\n",
      "datlim1 = vlim1(lon_grid.flatten(), lat_grid.flatten(), pressure_grid.flatten())\n",
      "datlim2 = vlim2(lon_grid.flatten(), lat_grid.flatten(), pressure_grid.flatten())\n",
      "\n",
      "output = np.column_stack([lon_grid.flatten(), lat_grid.flatten(), pressure_grid.flatten(), datlim1, datlim2])\n",
      "np.savetxt('out.csv', output, delimiter=',')"
     ],
     "language": "python",
     "metadata": {},
     "outputs": []
    }
   ],
   "metadata": {}
  }
 ]
}